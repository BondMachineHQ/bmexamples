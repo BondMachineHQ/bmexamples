{
 "cells": [
  {
   "cell_type": "code",
   "execution_count": 2,
   "metadata": {},
   "outputs": [
    {
     "name": "stdout",
     "output_type": "stream",
     "text": [
      "\u001b[31m[Project: proj_basys3_counter]\u001b[0m - \u001b[32m[Cleanup begin]\u001b[0m - \u001b[33m[Target: clean] \u001b[0m\n",
      "rm -rf working_dir\n",
      "rm -f vivado*\n",
      "rm -f graphviz*\n",
      "rm -rf ebcluster*\n",
      "rm -f a.out*\n",
      "\u001b[31m[Project: proj_basys3_counter]\u001b[0m - \u001b[32m[Cleanup end]\u001b[0m\n",
      "\n"
     ]
    }
   ],
   "source": [
    "!make clean"
   ]
  },
  {
   "cell_type": "code",
   "execution_count": 3,
   "metadata": {},
   "outputs": [
    {
     "name": "stdout",
     "output_type": "stream",
     "text": [
      "\u001b[31m[Project: proj_basys3_counter]\u001b[0m - \u001b[32m[Working directory creation begin]\u001b[0m - \u001b[33m[Target: working_dir] \u001b[0m\n",
      "mkdir -p working_dir\n",
      "\u001b[31m[Project: proj_basys3_counter]\u001b[0m - \u001b[32m[Working directory creation end]\u001b[0m\n",
      "\n",
      "\u001b[31m[Project: proj_basys3_counter]\u001b[0m - \u001b[32m[BondMachine generation begin]\u001b[0m - \u001b[33m[Target: working_dir/bondmachine_target] \u001b[0m\n",
      "bondgo  -input-file counter.go -save-bondmachine working_dir/bondmachine.json -mpm\n",
      "\u001b[31m[Project: proj_basys3_counter]\u001b[0m - \u001b[32m[BondMachine generation end]\u001b[0m\n",
      "\n"
     ]
    }
   ],
   "source": [
    "!make bondmachine"
   ]
  },
  {
   "cell_type": "code",
   "execution_count": null,
   "metadata": {},
   "outputs": [],
   "source": []
  }
 ],
 "metadata": {
  "kernelspec": {
   "display_name": "Python 3.10.8 64-bit",
   "language": "python",
   "name": "python3"
  },
  "language_info": {
   "codemirror_mode": {
    "name": "ipython",
    "version": 3
   },
   "file_extension": ".py",
   "mimetype": "text/x-python",
   "name": "python",
   "nbconvert_exporter": "python",
   "pygments_lexer": "ipython3",
   "version": "3.10.8"
  },
  "orig_nbformat": 4,
  "vscode": {
   "interpreter": {
    "hash": "8a94588eda9d64d9e9a351ab8144e55b1fabf5113b54e67dd26a8c27df0381b3"
   }
  }
 },
 "nbformat": 4,
 "nbformat_minor": 2
}

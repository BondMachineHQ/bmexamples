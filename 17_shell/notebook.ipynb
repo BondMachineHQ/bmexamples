{
 "cells": [
  {
   "cell_type": "code",
   "execution_count": 1,
   "id": "43a92f9e-a36c-4c9b-bb6e-d4d84a79eb26",
   "metadata": {
    "tags": []
   },
   "outputs": [],
   "source": [
    "import os\n",
    "\n",
    "os.environ['XILINX_XRT'] = '/opt/xilinx/xrt'\n",
    "os.environ['LD_LIBRARY_PATH'] = '/opt/xilinx/xrt/lib'\n",
    "os.environ['PATH'] = '/tools/Xilinx/Vitis/2023.2/bin:/opt/xilinx/xrt/bin:/tools/conda/envs/jupyterhub-env/bin:/tools/conda/condabin:/sbin:/bin:/usr/sbin:/usr/bin'\n",
    "os.environ['PYTHONPATH'] = '/opt/xilinx/xrt/python'"
   ]
  },
  {
   "cell_type": "code",
   "execution_count": 2,
   "id": "590c0fb0-cb68-4eff-a225-bba72e3ffcd5",
   "metadata": {
    "tags": []
   },
   "outputs": [],
   "source": [
    "import os\n",
    "import numpy as np\n",
    "import time\n",
    "import sys\n",
    "import csv\n",
    "from datetime import datetime\n",
    "import statistics\n",
    "import threading"
   ]
  },
  {
   "cell_type": "code",
   "execution_count": 3,
   "id": "ec496e43-baa3-42fa-86c1-8135bb39b264",
   "metadata": {
    "tags": []
   },
   "outputs": [
    {
     "name": "stdout",
     "output_type": "stream",
     "text": [
      "File ‘bmshell.xclbin’ already there; not retrieving.\n",
      "\n"
     ]
    }
   ],
   "source": [
    "!wget -nc bondmachine.fisica.unipg.it/firmwares/bmshell.xclbin"
   ]
  },
  {
   "cell_type": "code",
   "execution_count": 4,
   "id": "7523966b-a627-4431-92f2-452b96ab869a",
   "metadata": {
    "tags": []
   },
   "outputs": [
    {
     "name": "stderr",
     "output_type": "stream",
     "text": [
      "/home/gibianch/.local/lib/python3.8/site-packages/pydantic/_internal/_config.py:318: UserWarning: Valid config keys have changed in V2:\n",
      "* 'underscore_attrs_are_private' has been removed\n",
      "  warnings.warn(message, UserWarning)\n",
      "/home/gibianch/.local/lib/python3.8/site-packages/pydantic/_internal/_config.py:318: UserWarning: Valid config keys have changed in V2:\n",
      "* 'underscore_attrs_are_private' has been removed\n",
      "  warnings.warn(message, UserWarning)\n"
     ]
    },
    {
     "data": {
      "application/javascript": [
       "\n",
       "try {\n",
       "require(['notebook/js/codecell'], function(codecell) {\n",
       "  codecell.CodeCell.options_default.highlight_modes[\n",
       "      'magic_text/x-csrc'] = {'reg':[/^%%microblaze/]};\n",
       "  Jupyter.notebook.events.one('kernel_ready.Kernel', function(){\n",
       "      Jupyter.notebook.get_cells().map(function(cell){\n",
       "          if (cell.cell_type == 'code'){ cell.auto_highlight(); } }) ;\n",
       "  });\n",
       "});\n",
       "} catch (e) {};\n"
      ]
     },
     "metadata": {},
     "output_type": "display_data"
    },
    {
     "data": {
      "application/javascript": [
       "\n",
       "try {\n",
       "require(['notebook/js/codecell'], function(codecell) {\n",
       "  codecell.CodeCell.options_default.highlight_modes[\n",
       "      'magic_text/x-csrc'] = {'reg':[/^%%pybind11/]};\n",
       "  Jupyter.notebook.events.one('kernel_ready.Kernel', function(){\n",
       "      Jupyter.notebook.get_cells().map(function(cell){\n",
       "          if (cell.cell_type == 'code'){ cell.auto_highlight(); } }) ;\n",
       "  });\n",
       "});\n",
       "} catch (e) {};\n"
      ]
     },
     "metadata": {},
     "output_type": "display_data"
    }
   ],
   "source": [
    "import pynq\n",
    "\n",
    "ol = pynq.Overlay(\"bmshell.xclbin\")\n",
    "bmkernel = ol.krnl_bondmachine_rtl_1"
   ]
  },
  {
   "cell_type": "code",
   "execution_count": 5,
   "id": "d38a8d64-2614-4bd5-b85a-3dc9c1eada71",
   "metadata": {
    "tags": []
   },
   "outputs": [],
   "source": [
    "BATCH_SIZE = 16\n",
    "INPUT_SHAPE  = (BATCH_SIZE)\n",
    "OUTPUT_SHAPE = (BATCH_SIZE)\n",
    "send_data = np.zeros(INPUT_SHAPE)"
   ]
  },
  {
   "cell_type": "code",
   "execution_count": 6,
   "id": "6c9141d1-5b3c-4f8b-b3ce-09e9d2e3c619",
   "metadata": {
    "tags": []
   },
   "outputs": [],
   "source": [
    "in_buffer = pynq.allocate(INPUT_SHAPE, np.int16)\n",
    "out_buffer = pynq.allocate(OUTPUT_SHAPE, np.int16)\n",
    "mutex = 0"
   ]
  },
  {
   "cell_type": "code",
   "execution_count": 7,
   "id": "f8f2ab56-0689-49d1-b7b8-f6900c1d0e5a",
   "metadata": {
    "tags": []
   },
   "outputs": [],
   "source": [
    "def write_data():\n",
    "    global mutex\n",
    "    while True:\n",
    "        # update every seconds the output buffer\n",
    "        time.sleep(1)\n",
    "        if mutex == 1:\n",
    "            continue\n",
    "        mutex = 1\n",
    "        in_buffer[:]=send_data\n",
    "        in_buffer.sync_to_device()\n",
    "        bmkernel.call(in_buffer, out_buffer)\n",
    "        out_buffer.sync_from_device()\n",
    "        mutex = 0\n",
    "        #print(\"output received: \", out_buffer)\n",
    "        \n",
    "write_data_thread = threading.Thread(target=write_data)\n",
    "write_data_thread.start()"
   ]
  },
  {
   "cell_type": "code",
   "execution_count": 8,
   "id": "987680ed-15ce-4cf8-b73e-26c5aca3c0f3",
   "metadata": {
    "tags": []
   },
   "outputs": [],
   "source": [
    "def exec_transfer(data_to_transfer):\n",
    "    in_buffer = pynq.allocate(INPUT_SHAPE, np.int16)\n",
    "    in_buffer[:]=data_to_transfer\n",
    "    in_buffer.sync_to_device()\n",
    "    bmkernel.call(in_buffer, out_buffer)\n",
    "    out_buffer.sync_from_device()\n",
    "\n",
    "def write_user_data(user_input):\n",
    "    \n",
    "    input_len = len(user_input)\n",
    "    new_array = [input_len]\n",
    "    for c in user_input:\n",
    "        new_array.append(ord(c))\n",
    "\n",
    "    if len(new_array) < BATCH_SIZE:\n",
    "        for i in range(0, 16-len(new_array)):\n",
    "            new_array.append(0)\n",
    "            \n",
    "        exec_transfer(new_array)\n",
    "\n",
    "        local_out_buffer = list(out_buffer)\n",
    "        lenght_return = len(out_buffer)\n",
    "\n",
    "        returned_string = \"\"\n",
    "        for i in range(1, lenght_return):\n",
    "            returned_string += chr(local_out_buffer[i])\n",
    "        \n",
    "        print(\"reply from firmware: \",returned_string)\n",
    "        \n",
    "    elif len(new_array) > BATCH_SIZE:\n",
    "        n = len(new_array) // 16\n",
    "        arrays_to_send = [new_array[i * 16:(i + 1) * 16] for i in range(n)]\n",
    "        \n",
    "        if len(new_array) % 16 != 0:\n",
    "            remaining_array = new_array[n * 16:]\n",
    "            for i in range(0, 16-len(remaining_array)):\n",
    "                remaining_array.append(0)\n",
    "            arrays_to_send.append(remaining_array)\n",
    "        \n",
    "        final_string = \"\"\n",
    "        cnt = 0\n",
    "        for array_to_send in arrays_to_send:\n",
    "            exec_transfer(array_to_send)\n",
    "            local_out_buffer = list(out_buffer)\n",
    "            lenght_return = len(out_buffer)\n",
    "\n",
    "            returned_string = \"\"\n",
    "            starting_range = 1 if cnt == 0 else 0\n",
    "            for i in range(starting_range, lenght_return):\n",
    "                returned_string += chr(local_out_buffer[i])\n",
    "            \n",
    "            final_string += returned_string\n",
    "            \n",
    "            cnt = cnt + 1\n",
    "            \n",
    "        print(\"reply from firmware: \",final_string)"
   ]
  },
  {
   "cell_type": "code",
   "execution_count": 9,
   "id": "a21ef3fe-c39c-47d0-b981-1a1605a1963f",
   "metadata": {
    "tags": []
   },
   "outputs": [
    {
     "name": "stdin",
     "output_type": "stream",
     "text": [
      " ciao\n"
     ]
    },
    {
     "name": "stdout",
     "output_type": "stream",
     "text": [
      "[  0   0   0   0   0   4  99 105  97 111   0   0   0   0   0   0]\n",
      "reply from firmware:  \u0000\u0000\u0000\u0000\u0004ciao\u0000\u0000\u0000\u0000\u0000\u0000\n"
     ]
    },
    {
     "name": "stdin",
     "output_type": "stream",
     "text": [
      " 1234567\n"
     ]
    },
    {
     "name": "stdout",
     "output_type": "stream",
     "text": [
      "[ 0  0  0  0  0  0  0  0  7 49 50 51 52 53 54 55]\n",
      "reply from firmware:  \u0000\u0000\u0000\u0000\u0000\u0000\u0000\u00071234567\n"
     ]
    },
    {
     "name": "stdin",
     "output_type": "stream",
     "text": [
      " prova\n"
     ]
    },
    {
     "name": "stdout",
     "output_type": "stream",
     "text": [
      "[  0   0   0   0   0   0   5 112 114 111 118  97   0   0   0   0]\n",
      "reply from firmware:  \u0000\u0000\u0000\u0000\u0000\u0005prova\u0000\u0000\u0000\u0000\n"
     ]
    },
    {
     "name": "stdin",
     "output_type": "stream",
     "text": [
      " ciao\n"
     ]
    },
    {
     "name": "stdout",
     "output_type": "stream",
     "text": [
      "[  0   0   0   0   0   4  99 105  97 111   0   0   0   0   0   0]\n",
      "reply from firmware:  \u0000\u0000\u0000\u0000\u0004ciao\u0000\u0000\u0000\u0000\u0000\u0000\n"
     ]
    },
    {
     "ename": "KeyboardInterrupt",
     "evalue": "Interrupted by user",
     "output_type": "error",
     "traceback": [
      "\u001b[0;31m---------------------------------------------------------------------------\u001b[0m",
      "\u001b[0;31mKeyboardInterrupt\u001b[0m                         Traceback (most recent call last)",
      "Cell \u001b[0;32mIn[9], line 14\u001b[0m\n\u001b[1;32m     11\u001b[0m         mutex \u001b[38;5;241m=\u001b[39m \u001b[38;5;241m0\u001b[39m\n\u001b[1;32m     13\u001b[0m \u001b[38;5;28;01mwhile\u001b[39;00m \u001b[38;5;28;01mTrue\u001b[39;00m:\n\u001b[0;32m---> 14\u001b[0m     \u001b[43mask_user_input\u001b[49m\u001b[43m(\u001b[49m\u001b[43m)\u001b[49m\n",
      "Cell \u001b[0;32mIn[9], line 9\u001b[0m, in \u001b[0;36mask_user_input\u001b[0;34m()\u001b[0m\n\u001b[1;32m      7\u001b[0m \u001b[38;5;28;01melse\u001b[39;00m:\n\u001b[1;32m      8\u001b[0m     mutex \u001b[38;5;241m=\u001b[39m \u001b[38;5;241m1\u001b[39m\n\u001b[0;32m----> 9\u001b[0m     user_input \u001b[38;5;241m=\u001b[39m \u001b[38;5;28;43minput\u001b[39;49m\u001b[43m(\u001b[49m\u001b[38;5;124;43m\"\u001b[39;49m\u001b[38;5;124;43m\"\u001b[39;49m\u001b[43m)\u001b[49m\n\u001b[1;32m     10\u001b[0m     write_user_data(user_input)\n\u001b[1;32m     11\u001b[0m     mutex \u001b[38;5;241m=\u001b[39m \u001b[38;5;241m0\u001b[39m\n",
      "File \u001b[0;32m/tools/conda/envs/jupyterhub-env/lib/python3.8/site-packages/ipykernel/kernelbase.py:1202\u001b[0m, in \u001b[0;36mKernel.raw_input\u001b[0;34m(self, prompt)\u001b[0m\n\u001b[1;32m   1200\u001b[0m     msg \u001b[38;5;241m=\u001b[39m \u001b[38;5;124m\"\u001b[39m\u001b[38;5;124mraw_input was called, but this frontend does not support input requests.\u001b[39m\u001b[38;5;124m\"\u001b[39m\n\u001b[1;32m   1201\u001b[0m     \u001b[38;5;28;01mraise\u001b[39;00m StdinNotImplementedError(msg)\n\u001b[0;32m-> 1202\u001b[0m \u001b[38;5;28;01mreturn\u001b[39;00m \u001b[38;5;28;43mself\u001b[39;49m\u001b[38;5;241;43m.\u001b[39;49m\u001b[43m_input_request\u001b[49m\u001b[43m(\u001b[49m\n\u001b[1;32m   1203\u001b[0m \u001b[43m    \u001b[49m\u001b[38;5;28;43mstr\u001b[39;49m\u001b[43m(\u001b[49m\u001b[43mprompt\u001b[49m\u001b[43m)\u001b[49m\u001b[43m,\u001b[49m\n\u001b[1;32m   1204\u001b[0m \u001b[43m    \u001b[49m\u001b[38;5;28;43mself\u001b[39;49m\u001b[38;5;241;43m.\u001b[39;49m\u001b[43m_parent_ident\u001b[49m\u001b[43m[\u001b[49m\u001b[38;5;124;43m\"\u001b[39;49m\u001b[38;5;124;43mshell\u001b[39;49m\u001b[38;5;124;43m\"\u001b[39;49m\u001b[43m]\u001b[49m\u001b[43m,\u001b[49m\n\u001b[1;32m   1205\u001b[0m \u001b[43m    \u001b[49m\u001b[38;5;28;43mself\u001b[39;49m\u001b[38;5;241;43m.\u001b[39;49m\u001b[43mget_parent\u001b[49m\u001b[43m(\u001b[49m\u001b[38;5;124;43m\"\u001b[39;49m\u001b[38;5;124;43mshell\u001b[39;49m\u001b[38;5;124;43m\"\u001b[39;49m\u001b[43m)\u001b[49m\u001b[43m,\u001b[49m\n\u001b[1;32m   1206\u001b[0m \u001b[43m    \u001b[49m\u001b[43mpassword\u001b[49m\u001b[38;5;241;43m=\u001b[39;49m\u001b[38;5;28;43;01mFalse\u001b[39;49;00m\u001b[43m,\u001b[49m\n\u001b[1;32m   1207\u001b[0m \u001b[43m\u001b[49m\u001b[43m)\u001b[49m\n",
      "File \u001b[0;32m/tools/conda/envs/jupyterhub-env/lib/python3.8/site-packages/ipykernel/kernelbase.py:1245\u001b[0m, in \u001b[0;36mKernel._input_request\u001b[0;34m(self, prompt, ident, parent, password)\u001b[0m\n\u001b[1;32m   1242\u001b[0m \u001b[38;5;28;01mexcept\u001b[39;00m \u001b[38;5;167;01mKeyboardInterrupt\u001b[39;00m:\n\u001b[1;32m   1243\u001b[0m     \u001b[38;5;66;03m# re-raise KeyboardInterrupt, to truncate traceback\u001b[39;00m\n\u001b[1;32m   1244\u001b[0m     msg \u001b[38;5;241m=\u001b[39m \u001b[38;5;124m\"\u001b[39m\u001b[38;5;124mInterrupted by user\u001b[39m\u001b[38;5;124m\"\u001b[39m\n\u001b[0;32m-> 1245\u001b[0m     \u001b[38;5;28;01mraise\u001b[39;00m \u001b[38;5;167;01mKeyboardInterrupt\u001b[39;00m(msg) \u001b[38;5;28;01mfrom\u001b[39;00m \u001b[38;5;28;01mNone\u001b[39;00m\n\u001b[1;32m   1246\u001b[0m \u001b[38;5;28;01mexcept\u001b[39;00m \u001b[38;5;167;01mException\u001b[39;00m:\n\u001b[1;32m   1247\u001b[0m     \u001b[38;5;28mself\u001b[39m\u001b[38;5;241m.\u001b[39mlog\u001b[38;5;241m.\u001b[39mwarning(\u001b[38;5;124m\"\u001b[39m\u001b[38;5;124mInvalid Message:\u001b[39m\u001b[38;5;124m\"\u001b[39m, exc_info\u001b[38;5;241m=\u001b[39m\u001b[38;5;28;01mTrue\u001b[39;00m)\n",
      "\u001b[0;31mKeyboardInterrupt\u001b[0m: Interrupted by user"
     ]
    }
   ],
   "source": [
    "def ask_user_input():\n",
    "    global mutex\n",
    "    if mutex == 1:\n",
    "        print(\"Wait to finish transfer\")\n",
    "        time.sleep(0.1)\n",
    "        ask_user_input()\n",
    "    else:\n",
    "        mutex = 1\n",
    "        user_input = input(\"\")\n",
    "        write_user_data(user_input)\n",
    "        mutex = 0\n",
    "\n",
    "while True:\n",
    "    ask_user_input()"
   ]
  },
  {
   "cell_type": "code",
   "execution_count": null,
   "id": "b6b29c4b-fb14-423d-8ef9-bdb17ed5ff23",
   "metadata": {},
   "outputs": [],
   "source": []
  }
 ],
 "metadata": {
  "kernelspec": {
   "display_name": "Python 3 (ipykernel)",
   "language": "python",
   "name": "python3"
  },
  "language_info": {
   "codemirror_mode": {
    "name": "ipython",
    "version": 3
   },
   "file_extension": ".py",
   "mimetype": "text/x-python",
   "name": "python",
   "nbconvert_exporter": "python",
   "pygments_lexer": "ipython3",
   "version": "3.8.18"
  }
 },
 "nbformat": 4,
 "nbformat_minor": 5
}

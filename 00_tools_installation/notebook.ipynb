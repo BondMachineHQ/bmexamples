{
 "cells": [
  {
   "cell_type": "markdown",
   "metadata": {},
   "source": [
    "### Framework Installation ###"
   ]
  },
  {
   "cell_type": "markdown",
   "metadata": {},
   "source": [
    "This notebook is a tutorial for the [BondMachine](http://bondmachine.fisica.unipg.it) framework installation. The !something commands can be also executed in a terminal."
   ]
  },
  {
   "cell_type": "markdown",
   "metadata": {},
   "source": [
    "As first thing, import the necessary python modules. In this case just the os module is needed."
   ]
  },
  {
   "cell_type": "code",
   "execution_count": 13,
   "metadata": {
    "tags": []
   },
   "outputs": [],
   "source": [
    "import os"
   ]
  },
  {
   "cell_type": "markdown",
   "metadata": {},
   "source": [
    "The framework installation is really straightforward. The only requirement is to choose a directory where to install the binaries and run the installation script downloaded from the [BondMachine](http://bondmachine.fisica.unipg.it) website."
   ]
  },
  {
   "cell_type": "code",
   "execution_count": 14,
   "metadata": {
    "tags": []
   },
   "outputs": [],
   "source": [
    "# To install from python:\n",
    "BONDMACHINE_DIR=\"/home/mariotti/bin\"\n",
    "# To install from bash:\n",
    "# export BONDMACHINE_DIR=\"/home/mariotti/bin\""
   ]
  },
  {
   "cell_type": "code",
   "execution_count": 15,
   "metadata": {
    "tags": []
   },
   "outputs": [
    {
     "name": "stdout",
     "output_type": "stream",
     "text": [
      "bmhelper installation\u001b[32m\u001b[500C\u001b[7D[ Ok ]\u001b[0m\n",
      "basm installation\u001b[32m\u001b[500C\u001b[7D[ Ok ]\u001b[0m\n",
      "bmanalysis installation\u001b[32m\u001b[500C\u001b[7D[ Ok ]\u001b[0m\n",
      "bmnumbers installation\u001b[32m\u001b[500C\u001b[7D[ Ok ]\u001b[0m\n",
      "bmstack installation\u001b[32m\u001b[500C\u001b[7D[ Ok ]\u001b[0m\n",
      "bondgo installation\u001b[32m\u001b[500C\u001b[7D[ Ok ]\u001b[0m\n",
      "bondmachine installation\u001b[32m\u001b[500C\u001b[7D[ Ok ]\u001b[0m\n",
      "brvgasdl installation\u001b[32m\u001b[500C\u001b[7D[ Ok ]\u001b[0m\n",
      "brvgasend installation\u001b[32m\u001b[500C\u001b[7D[ Ok ]\u001b[0m\n",
      "melbond installation\u001b[32m\u001b[500C\u001b[7D[ Ok ]\u001b[0m\n",
      "neuralbond installation\u001b[32m\u001b[500C\u001b[7D[ Ok ]\u001b[0m\n",
      "nnef2bm installation\u001b[32m\u001b[500C\u001b[7D[ Ok ]\u001b[0m\n",
      "procbuilder installation\u001b[32m\u001b[500C\u001b[7D[ Ok ]\u001b[0m\n",
      "simbox installation\u001b[32m\u001b[500C\u001b[7D[ Ok ]\u001b[0m\n"
     ]
    }
   ],
   "source": [
    "!mkdir -p {BONDMACHINE_DIR}\n",
    "os.environ[\"BONDMACHINE_DIR\"]=BONDMACHINE_DIR\n",
    "os.environ[\"PATH\"]=os.environ[\"PATH\"]+\":\"+os.environ[\"BONDMACHINE_DIR\"]\n",
    "!bash <(curl -fsSL http://bondmachine.fisica.unipg.it/installer/install)\n",
    "\n",
    "# Or in bash:\n",
    "# mkdir -p $BONDMACHINE_DIR\n",
    "# bash <(curl -fsSL http://bondmachine.fisica.unipg.it/installer/install)"
   ]
  },
  {
   "cell_type": "markdown",
   "metadata": {},
   "source": [
    "In case you are courious, the installation script is a bash script that just downloads the binaries from the site and unpacks them in the chosen directory.\n",
    "This is possible because the binaries are written in Go and are compiled statically, so they do not need any external library to run.\n",
    "To build the binaries from the source code, you need to install the Go compiler and the BondMachine source code. The source code is available on the\n",
    "[Main repo on github](https://github.com/BondMachineHQ/BondMachine).\n",
    "\n",
    "To see the content of the installation script, just run the following cell."
   ]
  },
  {
   "cell_type": "code",
   "execution_count": 16,
   "metadata": {
    "tags": []
   },
   "outputs": [
    {
     "name": "stdout",
     "output_type": "stream",
     "text": [
      "#!/bin/bash\n",
      "\n",
      "if [[ -z \"${BONDMACHINE_DIR}\" ]]; then\n",
      "\techo \"BONDMACHINE_DIR is not set. Use it to choose where to install BondMachine binaries\"\n",
      "\texit 1\n",
      "else\n",
      "\tif [[ -d \"${BONDMACHINE_DIR}\" ]]; then\n",
      "\t\tif [[ ! -w \"${BONDMACHINE_DIR}\" ]]; then\n",
      "\t\t\techo \"BONDMACHINE_DIR is not writable\"\n",
      "\t\t\texit 1\n",
      "\t\tfi\n",
      "\telse\n",
      "\t\techo \"BONDMACHINE_DIR does not exists\"\n",
      "\t\texit 1\n",
      "\tfi\n",
      "fi\n",
      "\n",
      "cd \"${BONDMACHINE_DIR}\"\n",
      "\n",
      "echo -n \"bmhelper installation\" ; ( curl -fsSL http://bondmachine.fisica.unipg.it/installer/bmhelper --output bmhelper && chmod 755 bmhelper && echo -e \"\\033[32m\\033[500C\\033[7D[ Ok ]\\033[0m\" ) || echo -e \"\\033[31m\\033[500C\\033[7D[ Fail ]\\033[0m\"\n",
      "echo -n \"basm installation\" ; ( curl -fsSL http://bondmachine.fisica.unipg.it/installer/basm --output basm && chmod 755 basm && echo -e \"\\033[32m\\033[500C\\033[7D[ Ok ]\\033[0m\" ) || echo -e \"\\033[31m\\033[500C\\033[7D[ Fail ]\\033[0m\"\n",
      "echo -n \"bmanalysis installation\" ; ( curl -fsSL http://bondmachine.fisica.unipg.it/installer/bmanalysis --output bmanalysis && chmod 755 bmanalysis && echo -e \"\\033[32m\\033[500C\\033[7D[ Ok ]\\033[0m\" ) || echo -e \"\\033[31m\\033[500C\\033[7D[ Fail ]\\033[0m\"\n",
      "echo -n \"bmnumbers installation\" ; ( curl -fsSL http://bondmachine.fisica.unipg.it/installer/bmnumbers --output bmnumbers && chmod 755 bmnumbers && echo -e \"\\033[32m\\033[500C\\033[7D[ Ok ]\\033[0m\" ) || echo -e \"\\033[31m\\033[500C\\033[7D[ Fail ]\\033[0m\"\n",
      "echo -n \"bmstack installation\" ; ( curl -fsSL http://bondmachine.fisica.unipg.it/installer/bmstack --output bmstack && chmod 755 bmstack && echo -e \"\\033[32m\\033[500C\\033[7D[ Ok ]\\033[0m\" ) || echo -e \"\\033[31m\\033[500C\\033[7D[ Fail ]\\033[0m\"\n",
      "echo -n \"bondgo installation\" ; ( curl -fsSL http://bondmachine.fisica.unipg.it/installer/bondgo --output bondgo && chmod 755 bondgo && echo -e \"\\033[32m\\033[500C\\033[7D[ Ok ]\\033[0m\" ) || echo -e \"\\033[31m\\033[500C\\033[7D[ Fail ]\\033[0m\"\n",
      "echo -n \"bondmachine installation\" ; ( curl -fsSL http://bondmachine.fisica.unipg.it/installer/bondmachine --output bondmachine && chmod 755 bondmachine && echo -e \"\\033[32m\\033[500C\\033[7D[ Ok ]\\033[0m\" ) || echo -e \"\\033[31m\\033[500C\\033[7D[ Fail ]\\033[0m\"\n",
      "echo -n \"brvgasdl installation\" ; ( curl -fsSL http://bondmachine.fisica.unipg.it/installer/brvgasdl --output brvgasdl && chmod 755 brvgasdl && echo -e \"\\033[32m\\033[500C\\033[7D[ Ok ]\\033[0m\" ) || echo -e \"\\033[31m\\033[500C\\033[7D[ Fail ]\\033[0m\"\n",
      "echo -n \"brvgasend installation\" ; ( curl -fsSL http://bondmachine.fisica.unipg.it/installer/brvgasend --output brvgasend && chmod 755 brvgasend && echo -e \"\\033[32m\\033[500C\\033[7D[ Ok ]\\033[0m\" ) || echo -e \"\\033[31m\\033[500C\\033[7D[ Fail ]\\033[0m\"\n",
      "echo -n \"melbond installation\" ; ( curl -fsSL http://bondmachine.fisica.unipg.it/installer/melbond --output melbond && chmod 755 melbond && echo -e \"\\033[32m\\033[500C\\033[7D[ Ok ]\\033[0m\" ) || echo -e \"\\033[31m\\033[500C\\033[7D[ Fail ]\\033[0m\"\n",
      "echo -n \"neuralbond installation\" ; ( curl -fsSL http://bondmachine.fisica.unipg.it/installer/neuralbond --output neuralbond && chmod 755 neuralbond && echo -e \"\\033[32m\\033[500C\\033[7D[ Ok ]\\033[0m\" ) || echo -e \"\\033[31m\\033[500C\\033[7D[ Fail ]\\033[0m\"\n",
      "echo -n \"nnef2bm installation\" ; ( curl -fsSL http://bondmachine.fisica.unipg.it/installer/nnef2bm --output nnef2bm && chmod 755 nnef2bm && echo -e \"\\033[32m\\033[500C\\033[7D[ Ok ]\\033[0m\" ) || echo -e \"\\033[31m\\033[500C\\033[7D[ Fail ]\\033[0m\"\n",
      "echo -n \"procbuilder installation\" ; ( curl -fsSL http://bondmachine.fisica.unipg.it/installer/procbuilder --output procbuilder && chmod 755 procbuilder && echo -e \"\\033[32m\\033[500C\\033[7D[ Ok ]\\033[0m\" ) || echo -e \"\\033[31m\\033[500C\\033[7D[ Fail ]\\033[0m\"\n",
      "echo -n \"simbox installation\" ; ( curl -fsSL http://bondmachine.fisica.unipg.it/installer/simbox --output simbox && chmod 755 simbox && echo -e \"\\033[32m\\033[500C\\033[7D[ Ok ]\\033[0m\" ) || echo -e \"\\033[31m\\033[500C\\033[7D[ Fail ]\\033[0m\"\n",
      "\n",
      "cd - > /dev/null\n"
     ]
    }
   ],
   "source": [
    "!curl -fsSL http://bondmachine.fisica.unipg.it/installer/install"
   ]
  }
 ],
 "metadata": {
  "kernelspec": {
   "display_name": "Python 3 (ipykernel)",
   "language": "python",
   "name": "python3"
  },
  "language_info": {
   "codemirror_mode": {
    "name": "ipython",
    "version": 3
   },
   "file_extension": ".py",
   "mimetype": "text/x-python",
   "name": "python",
   "nbconvert_exporter": "python",
   "pygments_lexer": "ipython3",
   "version": "3.8.18"
  },
  "vscode": {
   "interpreter": {
    "hash": "8a94588eda9d64d9e9a351ab8144e55b1fabf5113b54e67dd26a8c27df0381b3"
   }
  }
 },
 "nbformat": 4,
 "nbformat_minor": 4
}

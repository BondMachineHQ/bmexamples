{
 "cells": [
  {
   "cell_type": "markdown",
   "metadata": {},
   "source": [
    "### Framework Installation ###"
   ]
  },
  {
   "cell_type": "markdown",
   "metadata": {},
   "source": [
    "This notebook is a tutorial for the [BondMachine](http://bondmachine.fisica.unipg.it) framework installation. The !something commands can be also executed in a terminal."
   ]
  },
  {
   "cell_type": "markdown",
   "metadata": {},
   "source": [
    "As first thing, import the necessary python modules. In this case just the os module is needed."
   ]
  },
  {
   "cell_type": "code",
   "execution_count": null,
   "metadata": {
    "tags": []
   },
   "outputs": [],
   "source": [
    "import os"
   ]
  },
  {
   "cell_type": "markdown",
   "metadata": {},
   "source": [
    "The framework installation is really straightforward. The only requirement is to choose a directory where to install the binaries and run the installation script downloaded from the [BondMachine](http://bondmachine.fisica.unipg.it) website."
   ]
  },
  {
   "cell_type": "code",
   "execution_count": null,
   "metadata": {
    "tags": []
   },
   "outputs": [],
   "source": [
    "# To install from python:\n",
    "BONDMACHINE_DIR=\"/home/\"+os.environ[\"USER\"]+\"/bin\"\n",
    "# To install from bash:\n",
    "# export BONDMACHINE_DIR=\"/home/$USER/bin\""
   ]
  },
  {
   "cell_type": "code",
   "execution_count": null,
   "metadata": {
    "tags": []
   },
   "outputs": [],
   "source": [
    "!mkdir -p {BONDMACHINE_DIR}\n",
    "os.environ[\"BONDMACHINE_DIR\"]=BONDMACHINE_DIR\n",
    "os.environ[\"PATH\"]=os.environ[\"PATH\"]+\":\"+os.environ[\"BONDMACHINE_DIR\"]\n",
    "!bash <(curl -fsSL http://bondmachine.fisica.unipg.it/installer/install)\n",
    "\n",
    "# Or in bash:\n",
    "# mkdir -p $BONDMACHINE_DIR\n",
    "# bash <(curl -fsSL http://bondmachine.fisica.unipg.it/installer/install)"
   ]
  },
  {
   "cell_type": "markdown",
   "metadata": {},
   "source": [
    "In case you are courious, the installation script is a bash script that just downloads the binaries from the site and unpacks them in the chosen directory.\n",
    "This is possible because the binaries are written in Go and are compiled statically, so they do not need any external library to run.\n",
    "To build the binaries from the source code, you need to install the Go compiler and the BondMachine source code. The source code is available on the\n",
    "[Main repo on github](https://github.com/BondMachineHQ/BondMachine).\n",
    "\n",
    "To see the content of the installation script, just run the following cell."
   ]
  },
  {
   "cell_type": "code",
   "execution_count": null,
   "metadata": {
    "tags": []
   },
   "outputs": [],
   "source": [
    "!curl -fsSL http://bondmachine.fisica.unipg.it/installer/install"
   ]
  },
  {
   "cell_type": "code",
   "execution_count": null,
   "metadata": {
    "tags": []
   },
   "outputs": [],
   "source": [
    "!bmhelper doctor"
   ]
  },
  {
   "cell_type": "code",
   "execution_count": null,
   "metadata": {},
   "outputs": [],
   "source": []
  }
 ],
 "metadata": {
  "kernelspec": {
   "display_name": "Python 3 (ipykernel)",
   "language": "python",
   "name": "python3"
  },
  "language_info": {
   "codemirror_mode": {
    "name": "ipython",
    "version": 3
   },
   "file_extension": ".py",
   "mimetype": "text/x-python",
   "name": "python",
   "nbconvert_exporter": "python",
   "pygments_lexer": "ipython3",
   "version": "3.8.18"
  },
  "vscode": {
   "interpreter": {
    "hash": "8a94588eda9d64d9e9a351ab8144e55b1fabf5113b54e67dd26a8c27df0381b3"
   }
  }
 },
 "nbformat": 4,
 "nbformat_minor": 4
}

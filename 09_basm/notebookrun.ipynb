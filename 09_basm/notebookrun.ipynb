{
 "cells": [
  {
   "cell_type": "code",
   "execution_count": null,
   "id": "f6651115-5161-439e-9006-775c22b941ab",
   "metadata": {
    "tags": []
   },
   "outputs": [],
   "source": [
    "import os\n",
    "BONDMACHINE_DIR=\"/home/\"+os.environ[\"USER\"]+\"/bin\"\n",
    "os.environ[\"BONDMACHINE_DIR\"]=BONDMACHINE_DIR\n",
    "os.environ[\"PATH\"]=os.environ[\"PATH\"]+\":\"+os.environ[\"BONDMACHINE_DIR\"]"
   ]
  },
  {
   "cell_type": "code",
   "execution_count": null,
   "id": "a54f8bb5-f319-4baf-8d49-c9b1bce5cdcc",
   "metadata": {
    "tags": []
   },
   "outputs": [],
   "source": [
    "os.environ['XILINX_HLS'] = '/tools/Xilinx/Vitis_HLS/2023.2'\n",
    "os.environ['XILINX_VIVADO'] = '/tools/Xilinx/Vivado/2023.2'\n",
    "os.environ['XILINX_VITIS'] = '/tools/Xilinx/Vitis/2023.2'\n",
    "os.environ['PATH']=os.environ[\"PATH\"]+\":\"+os.environ['XILINX_HLS']+\"/bin:\"+os.environ['XILINX_VIVADO']+\"/bin:\"+os.environ['XILINX_VITIS']+\"/bin:\""
   ]
  },
  {
   "cell_type": "code",
   "execution_count": null,
   "id": "4363181b-fb74-4341-894e-ee53cc581847",
   "metadata": {
    "tags": []
   },
   "outputs": [],
   "source": [
    "os.environ['XILINX_XRT'] = '/opt/xilinx/xrt'\n",
    "os.environ['LD_LIBRARY_PATH'] = '/opt/xilinx/xrt/lib'\n",
    "os.environ['PYTHONPATH'] = '/opt/xilinx/xrt/python'"
   ]
  },
  {
   "cell_type": "code",
   "execution_count": null,
   "id": "590c0fb0-cb68-4eff-a225-bba72e3ffcd5",
   "metadata": {
    "tags": []
   },
   "outputs": [],
   "source": [
    "import numpy as np"
   ]
  },
  {
   "cell_type": "code",
   "execution_count": null,
   "id": "43f3ed18-94ee-4f23-af4e-07f76739a7dc",
   "metadata": {
    "tags": []
   },
   "outputs": [],
   "source": [
    "!cp -a working_dir/rtl_bondmachine/build_dir.hw.xilinx_u50_gen3x16_xdma_5_202210_1/bondmachine.xclbin bmsharedobject.xclbin"
   ]
  },
  {
   "cell_type": "code",
   "execution_count": null,
   "id": "78bbc3ea-ddac-4606-abae-c835ee360658",
   "metadata": {
    "tags": []
   },
   "outputs": [],
   "source": [
    "!wget -nc bondmachine.fisica.unipg.it/firmwares/bmsharedobject.xclbin"
   ]
  },
  {
   "cell_type": "code",
   "execution_count": null,
   "id": "7523966b-a627-4431-92f2-452b96ab869a",
   "metadata": {
    "tags": []
   },
   "outputs": [],
   "source": [
    "import pynq\n",
    "\n",
    "ol = pynq.Overlay(\"bmsharedobject.xclbin\")\n",
    "bmkernel = ol.krnl_bondmachine_rtl_1\n",
    "\n",
    "X_test = np.random.rand(16, 1)\n",
    "y_test = np.random.rand(16, 1)\n",
    "\n",
    "in_buffer = pynq.allocate((16,1), np.int16)\n",
    "out_buffer = pynq.allocate((16,1), np.int16)\n",
    "\n",
    "in_buffer[:] = X_test[0:16]\n",
    "\n",
    "in_buffer.sync_to_device()\n",
    "bmkernel.call(in_buffer, out_buffer)\n",
    "out_buffer.sync_from_device()\n",
    "\n",
    "print(out_buffer)"
   ]
  },
  {
   "cell_type": "code",
   "execution_count": null,
   "id": "b6b29c4b-fb14-423d-8ef9-bdb17ed5ff23",
   "metadata": {},
   "outputs": [],
   "source": []
  }
 ],
 "metadata": {
  "kernelspec": {
   "display_name": "Python 3 (ipykernel)",
   "language": "python",
   "name": "python3"
  },
  "language_info": {
   "codemirror_mode": {
    "name": "ipython",
    "version": 3
   },
   "file_extension": ".py",
   "mimetype": "text/x-python",
   "name": "python",
   "nbconvert_exporter": "python",
   "pygments_lexer": "ipython3",
   "version": "3.8.18"
  }
 },
 "nbformat": 4,
 "nbformat_minor": 5
}

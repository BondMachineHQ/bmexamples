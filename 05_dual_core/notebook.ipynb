{
 "cells": [
  {
   "cell_type": "markdown",
   "metadata": {
    "tags": []
   },
   "source": [
    "### Dual core BM ###"
   ]
  },
  {
   "cell_type": "markdown",
   "metadata": {},
   "source": [
    "This is the usal way to import the BondMachine toolkit into your python environment."
   ]
  },
  {
   "cell_type": "code",
   "execution_count": null,
   "metadata": {
    "tags": []
   },
   "outputs": [],
   "source": [
    "import os\n",
    "BONDMACHINE_DIR=\"/home/\"+os.environ[\"USER\"]+\"/bin\"\n",
    "os.environ[\"BONDMACHINE_DIR\"]=BONDMACHINE_DIR\n",
    "os.environ[\"PATH\"]=os.environ[\"PATH\"]+\":\"+os.environ[\"BONDMACHINE_DIR\"]"
   ]
  },
  {
   "cell_type": "code",
   "execution_count": null,
   "metadata": {
    "tags": []
   },
   "outputs": [],
   "source": [
    "os.environ['XILINX_HLS'] = '/tools/Xilinx/Vitis_HLS/2023.2'\n",
    "os.environ['XILINX_VIVADO'] = '/tools/Xilinx/Vivado/2023.2'\n",
    "os.environ['XILINX_VITIS'] = '/tools/Xilinx/Vitis/2023.2'\n",
    "os.environ['PATH']=os.environ[\"PATH\"]+\":\"+os.environ['XILINX_HLS']+\"/bin:\"+os.environ['XILINX_VIVADO']+\"/bin:\"+os.environ['XILINX_VITIS']+\"/bin:\""
   ]
  },
  {
   "cell_type": "markdown",
   "metadata": {},
   "source": [
    "Let's import also some other useful libraries as display."
   ]
  },
  {
   "cell_type": "code",
   "execution_count": null,
   "metadata": {
    "tags": []
   },
   "outputs": [],
   "source": [
    "from IPython import display"
   ]
  },
  {
   "cell_type": "code",
   "execution_count": null,
   "metadata": {
    "tags": []
   },
   "outputs": [],
   "source": [
    "!bmhelper doctor"
   ]
  },
  {
   "cell_type": "markdown",
   "metadata": {},
   "source": [
    "Now let's write 2 assembly programs, one for each core. The first one will be a simple program that increments a counter, writes it to the output port and then jumps back to the beginning. The second one will be a program that reads the input port, multiplies it by 2 and writes it to the output port and then jumps back to the beginning."
   ]
  },
  {
   "cell_type": "code",
   "execution_count": null,
   "metadata": {
    "tags": []
   },
   "outputs": [],
   "source": [
    "%%bash\n",
    "cat <<EOF > program1.asm\n",
    "clr r0\n",
    "inc r0\n",
    "r2o r0 o0\n",
    "r2o r0 o1\n",
    "j 1\n",
    "EOF\n",
    "\n",
    "cat <<EOF > program2.asm\n",
    "clr r0\n",
    "rset r1 2\n",
    "i2r r0 i0\n",
    "mult r0 r1\n",
    "r2o r0 o0\n",
    "j 2\n",
    "EOF"
   ]
  },
  {
   "cell_type": "markdown",
   "metadata": {},
   "source": [
    "List of used instructions and their descriptions:\n",
    "\n",
    "| Instruction | Description |\n",
    "|-------------|-------------|\n",
    "| clr         | Clear the value of a register |\n",
    "| i2r         | Move a value from an input port to a register |\n",
    "| inc         | Increment the value of a register |\n",
    "| j           | Jump to a specified address |\n",
    "| r2o         | Move a register value to an output port |\n",
    "| rset        | Set the value of a register to a specified constant |"
   ]
  },
  {
   "cell_type": "markdown",
   "metadata": {},
   "source": [
    "Create the two processors and load the programs into them."
   ]
  },
  {
   "cell_type": "code",
   "execution_count": null,
   "metadata": {
    "tags": []
   },
   "outputs": [],
   "source": [
    "%%bash\n",
    "procbuilder -register-size 4 -registers 2 -inputs 0 -outputs 2 -opcodes clr,inc,r2o,j  -save-machine processor1.json -input-assembly program1.asm\n",
    "procbuilder -register-size 4 -registers 2 -inputs 1 -outputs 1 -opcodes clr,i2r,mult,r2o,rset,j  -save-machine processor2.json -input-assembly program2.asm"
   ]
  },
  {
   "cell_type": "markdown",
   "metadata": {},
   "source": [
    "Similarly to the previous notebook, the tool created a JSON file called cp that contains all the informations to create the processor."
   ]
  },
  {
   "cell_type": "code",
   "execution_count": null,
   "metadata": {
    "tags": []
   },
   "outputs": [],
   "source": [
    "%%bash\n",
    "ls"
   ]
  },
  {
   "cell_type": "markdown",
   "metadata": {},
   "source": [
    "Now, let's create a bondmachine \"empty\" object (a JSON file)."
   ]
  },
  {
   "cell_type": "code",
   "execution_count": null,
   "metadata": {
    "tags": []
   },
   "outputs": [],
   "source": [
    "%%bash\n",
    "bondmachine -bondmachine-file bondmachine.json"
   ]
  },
  {
   "cell_type": "markdown",
   "metadata": {},
   "source": [
    "... and load the processors into it."
   ]
  },
  {
   "cell_type": "code",
   "execution_count": null,
   "metadata": {
    "tags": []
   },
   "outputs": [],
   "source": [
    "%%bash\n",
    "bondmachine -bondmachine-file bondmachine.json -add-domains processor1.json\n",
    "bondmachine -bondmachine-file bondmachine.json -add-domains processor2.json\n",
    "bondmachine -bondmachine-file bondmachine.json -add-processor 0\n",
    "bondmachine -bondmachine-file bondmachine.json -add-processor 1"
   ]
  },
  {
   "cell_type": "markdown",
   "metadata": {},
   "source": [
    "The bondmachine object is a JSON file that contains all the information about the processor. It is possible to inspect it and see it."
   ]
  },
  {
   "cell_type": "code",
   "execution_count": null,
   "metadata": {},
   "outputs": [],
   "source": [
    "%%bash\n",
    "cat bondmachine.json"
   ]
  },
  {
   "cell_type": "code",
   "execution_count": null,
   "metadata": {},
   "outputs": [],
   "source": [
    "!bondmachine -bondmachine-file bondmachine.json -emit-dot -dot-detail 5 | dot -Tpng > bondmachine.png\n",
    "display.Image(\"bondmachine.png\")"
   ]
  },
  {
   "cell_type": "markdown",
   "metadata": {},
   "source": [
    "Let's add two output ports to the bondmachine object."
   ]
  },
  {
   "cell_type": "code",
   "execution_count": null,
   "metadata": {},
   "outputs": [],
   "source": [
    "%%bash\n",
    "bondmachine -bondmachine-file bondmachine.json -add-outputs 2"
   ]
  },
  {
   "cell_type": "code",
   "execution_count": null,
   "metadata": {},
   "outputs": [],
   "source": [
    "!bondmachine -bondmachine-file bondmachine.json -emit-dot -dot-detail 5 | dot -Tpng > bondmachine.png\n",
    "display.Image(\"bondmachine.png\")"
   ]
  },
  {
   "cell_type": "markdown",
   "metadata": {},
   "source": [
    "Let's connect the first output port of the first processor to the first output port of the bondmachine object."
   ]
  },
  {
   "cell_type": "code",
   "execution_count": null,
   "metadata": {},
   "outputs": [],
   "source": [
    "%%bash\n",
    "bondmachine -bondmachine-file bondmachine.json -add-bond p0o0,o0"
   ]
  },
  {
   "cell_type": "code",
   "execution_count": null,
   "metadata": {},
   "outputs": [],
   "source": [
    "!bondmachine -bondmachine-file bondmachine.json -emit-dot -dot-detail 5 | dot -Tpng > bondmachine.png\n",
    "display.Image(\"bondmachine.png\")"
   ]
  },
  {
   "cell_type": "markdown",
   "metadata": {},
   "source": [
    "Now let's connect the first output port of the second processor to the second output port of the bondmachine object."
   ]
  },
  {
   "cell_type": "code",
   "execution_count": null,
   "metadata": {},
   "outputs": [],
   "source": [
    "%%bash\n",
    "bondmachine -bondmachine-file bondmachine.json -add-bond p1o0,o1"
   ]
  },
  {
   "cell_type": "code",
   "execution_count": null,
   "metadata": {},
   "outputs": [],
   "source": [
    "!bondmachine -bondmachine-file bondmachine.json -emit-dot -dot-detail 5 | dot -Tpng > bondmachine.png\n",
    "display.Image(\"bondmachine.png\")"
   ]
  },
  {
   "cell_type": "markdown",
   "metadata": {},
   "source": [
    "And let's connect the second output port of the first processor to the input port of the second processor."
   ]
  },
  {
   "cell_type": "code",
   "execution_count": null,
   "metadata": {},
   "outputs": [],
   "source": [
    "%%bash\n",
    "bondmachine -bondmachine-file bondmachine.json -add-bond p0o1,p1i0"
   ]
  },
  {
   "cell_type": "code",
   "execution_count": null,
   "metadata": {},
   "outputs": [],
   "source": [
    "!bondmachine -bondmachine-file bondmachine.json -emit-dot -dot-detail 5 | dot -Tpng > bondmachine.png\n",
    "display.Image(\"bondmachine.png\")"
   ]
  }
 ],
 "metadata": {
  "kernelspec": {
   "display_name": "Python 3 (ipykernel)",
   "language": "python",
   "name": "python3"
  },
  "language_info": {
   "codemirror_mode": {
    "name": "ipython",
    "version": 3
   },
   "file_extension": ".py",
   "mimetype": "text/x-python",
   "name": "python",
   "nbconvert_exporter": "python",
   "pygments_lexer": "ipython3",
   "version": "3.8.18"
  },
  "vscode": {
   "interpreter": {
    "hash": "8a94588eda9d64d9e9a351ab8144e55b1fabf5113b54e67dd26a8c27df0381b3"
   }
  }
 },
 "nbformat": 4,
 "nbformat_minor": 4
}

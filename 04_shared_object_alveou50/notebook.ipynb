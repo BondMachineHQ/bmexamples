{
 "cells": [
  {
   "cell_type": "code",
   "execution_count": 1,
   "id": "43a92f9e-a36c-4c9b-bb6e-d4d84a79eb26",
   "metadata": {
    "tags": []
   },
   "outputs": [],
   "source": [
    "import os\n",
    "\n",
    "os.environ['XILINX_XRT'] = '/opt/xilinx/xrt'\n",
    "os.environ['LD_LIBRARY_PATH'] = '/opt/xilinx/xrt/lib'\n",
    "os.environ['PATH'] = '/tools/Xilinx/Vitis/2023.2/bin:/opt/xilinx/xrt/bin:/tools/conda/envs/jupyterhub-env/bin:/tools/conda/condabin:/sbin:/bin:/usr/sbin:/usr/bin'\n",
    "os.environ['PYTHONPATH'] = '/opt/xilinx/xrt/python'"
   ]
  },
  {
   "cell_type": "code",
   "execution_count": 2,
   "id": "590c0fb0-cb68-4eff-a225-bba72e3ffcd5",
   "metadata": {
    "tags": []
   },
   "outputs": [],
   "source": [
    "import numpy as np"
   ]
  },
  {
   "cell_type": "code",
   "execution_count": 3,
   "id": "78bbc3ea-ddac-4606-abae-c835ee360658",
   "metadata": {
    "tags": []
   },
   "outputs": [
    {
     "name": "stdout",
     "output_type": "stream",
     "text": [
      "--2023-11-28 16:48:00--  http://bondmachine.fisica.unipg.it/firmwares/bmsharedobject.xclbin\n",
      "Resolving bondmachine.fisica.unipg.it (bondmachine.fisica.unipg.it)... 141.250.2.20\n",
      "Connecting to bondmachine.fisica.unipg.it (bondmachine.fisica.unipg.it)|141.250.2.20|:80... connected.\n",
      "HTTP request sent, awaiting response... 200 OK\n",
      "Length: 31031978 (30M) [application/octet-stream]\n",
      "Saving to: ‘bmsharedobject.xclbin’\n",
      "\n",
      "100%[======================================>] 31,031,978  74.0MB/s   in 0.4s   \n",
      "\n",
      "2023-11-28 16:48:01 (74.0 MB/s) - ‘bmsharedobject.xclbin’ saved [31031978/31031978]\n",
      "\n"
     ]
    }
   ],
   "source": [
    "!wget bondmachine.fisica.unipg.it/firmwares/bmsharedobject.xclbin"
   ]
  },
  {
   "cell_type": "code",
   "execution_count": null,
   "id": "7523966b-a627-4431-92f2-452b96ab869a",
   "metadata": {
    "tags": []
   },
   "outputs": [],
   "source": [
    "import pynq\n",
    "\n",
    "ol = pynq.Overlay(\"bmsharedobject.xclbin\")\n",
    "bmkernel = ol.krnl_bondmachine_rtl_1\n",
    "\n",
    "X_test = np.random.rand(16, 1)\n",
    "y_test = np.random.rand(16, 1)\n",
    "\n",
    "in_buffer = pynq.allocate((16,1), np.int16)\n",
    "out_buffer = pynq.allocate((16,1), np.int16)\n",
    "\n",
    "in_buffer[:] = X_test[0:16]\n",
    "\n",
    "in_buffer.sync_to_device()\n",
    "bmkernel.call(in_buffer, out_buffer)\n",
    "out_buffer.sync_from_device()\n",
    "\n",
    "print(out_buffer)"
   ]
  },
  {
   "cell_type": "code",
   "execution_count": null,
   "id": "b6b29c4b-fb14-423d-8ef9-bdb17ed5ff23",
   "metadata": {},
   "outputs": [],
   "source": []
  }
 ],
 "metadata": {
  "kernelspec": {
   "display_name": "Python 3 (ipykernel)",
   "language": "python",
   "name": "python3"
  },
  "language_info": {
   "codemirror_mode": {
    "name": "ipython",
    "version": 3
   },
   "file_extension": ".py",
   "mimetype": "text/x-python",
   "name": "python",
   "nbconvert_exporter": "python",
   "pygments_lexer": "ipython3",
   "version": "3.8.18"
  }
 },
 "nbformat": 4,
 "nbformat_minor": 5
}

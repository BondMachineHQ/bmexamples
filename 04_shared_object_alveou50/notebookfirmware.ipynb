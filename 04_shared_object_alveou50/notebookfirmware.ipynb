{
 "cells": [
  {
   "cell_type": "markdown",
   "metadata": {
    "tags": []
   },
   "source": [
    "### Bondgo simple example ###"
   ]
  },
  {
   "cell_type": "markdown",
   "metadata": {},
   "source": [
    "This is the usal way to import the BondMachine toolkit into your python environment."
   ]
  },
  {
   "cell_type": "code",
   "execution_count": 1,
   "metadata": {
    "tags": []
   },
   "outputs": [],
   "source": [
    "import os\n",
    "BONDMACHINE_DIR=\"/home/\"+os.environ[\"USER\"]+\"/bin\"\n",
    "os.environ[\"BONDMACHINE_DIR\"]=BONDMACHINE_DIR\n",
    "os.environ[\"PATH\"]=os.environ[\"PATH\"]+\":\"+os.environ[\"BONDMACHINE_DIR\"]"
   ]
  },
  {
   "cell_type": "code",
   "execution_count": 2,
   "metadata": {
    "tags": []
   },
   "outputs": [],
   "source": [
    "os.environ['XILINX_HLS'] = '/tools/Xilinx/Vitis_HLS/2023.2'\n",
    "os.environ['XILINX_VIVADO'] = '/tools/Xilinx/Vivado/2023.2'\n",
    "os.environ['XILINX_VITIS'] = '/tools/Xilinx/Vitis/2023.2'\n",
    "os.environ['PATH']=os.environ[\"PATH\"]+\":\"+os.environ['XILINX_HLS']+\"/bin:\"+os.environ['XILINX_VIVADO']+\"/bin:\"+os.environ['XILINX_VITIS']+\"/bin:\""
   ]
  },
  {
   "cell_type": "markdown",
   "metadata": {},
   "source": [
    "Let's import also some other useful libraries as display."
   ]
  },
  {
   "cell_type": "code",
   "execution_count": 3,
   "metadata": {
    "tags": []
   },
   "outputs": [],
   "source": [
    "from IPython import display"
   ]
  },
  {
   "cell_type": "code",
   "execution_count": 4,
   "metadata": {
    "tags": []
   },
   "outputs": [
    {
     "name": "stdout",
     "output_type": "stream",
     "text": [
      "\u001b[32m [ OK ] \t\u001b[37m Mandatory dependency found: make\n",
      "\u001b[32m [ OK ] \t\u001b[37m Mandatory dependency found: dot\n",
      "\u001b[32m [ OK ] \t\u001b[37m Mandatory dependency found: curl\n",
      "\u001b[32m [ OK ] \t\u001b[37m BondMachine tool basm found\n",
      "\u001b[32m [ OK ] \t\u001b[37m BondMachine tool bmanalysis found\n",
      "\u001b[32m [ OK ] \t\u001b[37m BondMachine tool bmnumbers found\n",
      "\u001b[32m [ OK ] \t\u001b[37m BondMachine tool bmstack found\n",
      "\u001b[32m [ OK ] \t\u001b[37m BondMachine tool bondgo found\n",
      "\u001b[32m [ OK ] \t\u001b[37m BondMachine tool bondmachine found\n",
      "\u001b[32m [ OK ] \t\u001b[37m BondMachine tool melbond found\n",
      "\u001b[32m [ OK ] \t\u001b[37m BondMachine tool neuralbond found\n",
      "\u001b[32m [ OK ] \t\u001b[37m BondMachine tool procbuilder found\n",
      "\u001b[32m [ OK ] \t\u001b[37m BondMachine tool simbox found\n",
      "\u001b[32m [ OK ] \t\u001b[37m All BondMachine tools has been found.\n",
      "\u001b[32m [ OK ] \t\u001b[37m Optional tool found: vivado\n",
      "\u001b[33m [ WARNING ] \t\u001b[37m Optional tool not found: yosis\n",
      "\u001b[33m [ WARNING ] \t\u001b[37m Optional tool not found: icepack\n",
      "\u001b[33m [ WARNING ] \t\u001b[37m Optional tool not found: quartus\n",
      "\u001b[32m [ OK ] \t\u001b[37m Dependencies checked\n"
     ]
    }
   ],
   "source": [
    "!bmhelper doctor"
   ]
  },
  {
   "cell_type": "markdown",
   "metadata": {},
   "source": [
    "Let's ckeck the project configuration."
   ]
  },
  {
   "cell_type": "code",
   "execution_count": 5,
   "metadata": {
    "tags": []
   },
   "outputs": [
    {
     "name": "stdout",
     "output_type": "stream",
     "text": [
      "WORKING_DIR=working_dir\n",
      "CURRENT_DIR=$(shell pwd)\n",
      "SOURCE_BASM=program.basm\n",
      "BMINFO=bminfo.json\n",
      "BOARD=alveou50\n",
      "SHOWARGS=-dot-detail 5\n",
      "SHOWRENDERER=dot -Txlib\n",
      "VERILOG_OPTIONS=-comment-verilog\n",
      "HWOPTIMIZATIONS=onlydestregs,onlysrcregs\n",
      "BASM_ARGS=-dump-requirements $(WORKING_DIR)/requirements.json $(BMRANGES) -disable-dynamical-matching -chooser-min-word-size -chooser-force-same-name\n",
      "BMREQS=$(WORKING_DIR)/requirements.json\n",
      "PLATFORM=xilinx_u50_gen3x16_xdma_5_202210_1\n",
      "MAPFILE=alveou50_maps.json\n",
      "#HDL_REGRESSION=bondmachine.sv\n",
      "#BM_REGRESSION=bondmachine.json\n",
      "include bmapi.mk\n"
     ]
    }
   ],
   "source": [
    "%%bash\n",
    "cat local.mk"
   ]
  },
  {
   "cell_type": "markdown",
   "metadata": {},
   "source": [
    "There is a variable called `MAPFILE` that points to the map file, which is a json file that contains the information about how the BondMachine\n",
    "is connected to the real world. Let's take a look at it."
   ]
  },
  {
   "cell_type": "code",
   "execution_count": 6,
   "metadata": {
    "tags": []
   },
   "outputs": [
    {
     "name": "stdout",
     "output_type": "stream",
     "text": [
      "{\n",
      "    \"Assoc\" : {\n",
      "        \"clk\" : \"clk\",\n",
      "        \"reset\" : \"btnC\"\n",
      "        }\n",
      "    }\n",
      "    "
     ]
    }
   ],
   "source": [
    "!cat alveou50_maps.json"
   ]
  },
  {
   "cell_type": "markdown",
   "metadata": {},
   "source": [
    "As you can see, the project is configured to use the `bondgo` compiler as source way to compile the code."
   ]
  },
  {
   "cell_type": "code",
   "execution_count": 7,
   "metadata": {
    "tags": []
   },
   "outputs": [
    {
     "name": "stdout",
     "output_type": "stream",
     "text": [
      "%section code1 .romtext iomode:sync\n",
      "        entry _start    ; Entry point\n",
      "_start:\n",
      "        clr     r0\n",
      "loop:\n",
      "        mov     r0, i0\n",
      "        lfsr82r r0, lfsr80\n",
      "        mov     o0, r0\n",
      "\n",
      "        j loop\n",
      "\n",
      "%endsection\n",
      "\n",
      "%meta cpdef\tcpu1\tromcode: code1, ramsize:8\n",
      "%meta sodef\tvideomemory    constraint:lfsr8:34\n",
      "%meta soatt\tvideomemory cp: cpu1, index:0\n",
      "%meta bmdef\tglobal registersize:16\n",
      "%meta ioatt     testioin cp: cpu1, index:0, type:input\n",
      "%meta ioatt     testioin cp: bm, index:0, type:input\n",
      "%meta ioatt     testioout cp: cpu1, index:0, type:output\n",
      "%meta ioatt     testioout cp: bm, index:0, type:output\n"
     ]
    }
   ],
   "source": [
    "%%bash\n",
    "cat program.basm"
   ]
  },
  {
   "cell_type": "markdown",
   "metadata": {},
   "source": [
    "With the `bondmachine` target we can generate the corresponding bondmachine. This time the toolchain \n",
    "make use of the `bondgo` compiler to generate the bondmachine. The bondgo arg -d is used to specify the\n",
    "activation of the debug mode."
   ]
  },
  {
   "cell_type": "code",
   "execution_count": 10,
   "metadata": {
    "tags": []
   },
   "outputs": [
    {
     "name": "stdout",
     "output_type": "stream",
     "text": [
      "\u001b[31m[Project: 04_shared_object_alveou50]\u001b[0m - \u001b[32m[Working directory creation begin]\u001b[0m - \u001b[33m[Target: working_dir] \u001b[0m\n",
      "mkdir -p working_dir\n",
      "\u001b[31m[Project: 04_shared_object_alveou50]\u001b[0m - \u001b[32m[Working directory creation end]\u001b[0m\n",
      "\n",
      "\u001b[31m[Project: 04_shared_object_alveou50]\u001b[0m - \u001b[32m[BondMachine generation begin]\u001b[0m - \u001b[33m[Target: working_dir/bondmachine_target] \u001b[0m\n",
      "basm -dump-requirements working_dir/requirements.json  -disable-dynamical-matching -chooser-min-word-size -chooser-force-same-name -bminfo-file bminfo.json -o working_dir/bondmachine.json  program.basm\n",
      "\u001b[31m[Project: 04_shared_object_alveou50]\u001b[0m - \u001b[32m[BondMachine generation end]\u001b[0m\n",
      "\n"
     ]
    }
   ],
   "source": [
    "%%bash\n",
    "make bondmachine"
   ]
  },
  {
   "cell_type": "markdown",
   "metadata": {},
   "source": [
    "The debug mode shows how the compiler parses the code and generates the  AST (Abstract Syntax Tree) of the code and \n",
    "how it creates the bondmachine. Let's see the bondmachine."
   ]
  },
  {
   "cell_type": "code",
   "execution_count": 12,
   "metadata": {
    "tags": []
   },
   "outputs": [
    {
     "name": "stdout",
     "output_type": "stream",
     "text": [
      "\u001b[31m[Project: 04_shared_object_alveou50]\u001b[0m - \u001b[32m[BondMachine diagram show begin]\u001b[0m - \u001b[33m[Target: show] \u001b[0m\n",
      "bondmachine -bondmachine-file working_dir/bondmachine.json -emit-dot -dot-detail 5 -bminfo-file bminfo.json | dot -Tpng > working_dir/bondmachine.png\n",
      "\u001b[31m[Project: 04_shared_object_alveou50]\u001b[0m - \u001b[32m[BondMachine diagram show end]\u001b[0m\n",
      "\n"
     ]
    },
    {
     "data": {
      "image/png": "[encoded data removed]",
      "text/plain": [
       "<IPython.core.display.Image object>"
      ]
     },
     "execution_count": 12,
     "metadata": {},
     "output_type": "execute_result"
    }
   ],
   "source": [
    "!SHOWRENDERER=\"dot -Tpng > working_dir/bondmachine.png\" make show\n",
    "display.Image(\"working_dir/bondmachine.png\")"
   ]
  },
  {
   "cell_type": "markdown",
   "metadata": {},
   "source": [
    "By taking a look at the ASM code, we can see that the there is not optimization."
   ]
  },
  {
   "cell_type": "code",
   "execution_count": 21,
   "metadata": {
    "tags": []
   },
   "outputs": [
    {
     "name": "stdout",
     "output_type": "stream",
     "text": [
      "\u001b[33m [ WARNING ] \t\u001b[37m Doctor has detected a warning; Run the command 'bmhelper doctor' to get more details.\n",
      "\u001b[32m [ OK ] \t\u001b[37m Workflow detected: basm.\n",
      "\u001b[32m [ OK ] \t\u001b[37m Mandatory variable found SOURCE_BASM\n",
      "\u001b[32m [ OK ] \t\u001b[37m Mandatory variable found WORKING_DIR\n",
      "\u001b[32m [ OK ] \t\u001b[37m Mandatory variable found MAPFILE\n",
      "\u001b[32m [ OK ] \t\u001b[37m Optional variable found: SHOWARGS\n",
      "\u001b[32m [ OK ] \t\u001b[37m Source file program.basm found\n",
      "\u001b[32m [ OK ] \t\u001b[37m Found target board: alveou50\n",
      "\u001b[32m [ OK ] \t\u001b[37m Project has been successfully initialized.\n"
     ]
    }
   ],
   "source": [
    "!make apply"
   ]
  },
  {
   "cell_type": "markdown",
   "metadata": {},
   "source": [
    "Let's clean the workspace."
   ]
  },
  {
   "cell_type": "code",
   "execution_count": 22,
   "metadata": {
    "tags": []
   },
   "outputs": [
    {
     "name": "stdout",
     "output_type": "stream",
     "text": [
      "\u001b[31m[Project: 04_shared_object_alveou50]\u001b[0m - \u001b[32m[Working directory creation begin]\u001b[0m - \u001b[33m[Target: working_dir] \u001b[0m\n",
      "mkdir -p working_dir\n",
      "\u001b[31m[Project: 04_shared_object_alveou50]\u001b[0m - \u001b[32m[Working directory creation end]\u001b[0m\n",
      "\n",
      "\u001b[31m[Project: 04_shared_object_alveou50]\u001b[0m - \u001b[32m[BondMachine generation begin]\u001b[0m - \u001b[33m[Target: working_dir/bondmachine_target] \u001b[0m\n",
      "basm -dump-requirements working_dir/requirements.json  -disable-dynamical-matching -chooser-min-word-size -chooser-force-same-name -bminfo-file bminfo.json -o working_dir/bondmachine.json  program.basm\n",
      "\u001b[31m[Project: 04_shared_object_alveou50]\u001b[0m - \u001b[32m[BondMachine generation end]\u001b[0m\n",
      "\n",
      "\u001b[31m[Project: 04_shared_object_alveou50]\u001b[0m - \u001b[32m[HDL generation begin]\u001b[0m - \u001b[33m[Target: working_dir/hdl_target] \u001b[0m\n",
      "bondmachine -bondmachine-file working_dir/bondmachine.json -create-verilog -verilog-mapfile alveou50_maps.json -verilog-flavor alveou50          -use-bmapi -bmapi-flavor axist -bmapi-language python -bmapi-mapfile bmapi.json -bmapi-liboutdir working_dir/bmapi -bmapi-framework pynq -bmapi-flavor-version basic -bmapi-modoutdir working_dir/rtl_bondmachine th-bmapi-generate-example notebook.ipynb -bmapi-data-type \"unsigned\" -comment-verilog -bminfo-file bminfo.json -bmrequirements-file working_dir/requirements.json -hw-optimizations onlydestregs,onlysrcregs \n",
      "echo > working_dir/bondmachine.sv\n",
      "for i in `ls *.v | sort -d` ; do cat $i >> working_dir/bondmachine.sv ; done\n",
      "rm -f *.v\n",
      "echo > working_dir/bondmachine.vhd\n",
      "for i in `ls *.vhd | sort -d` ; do cat $i >> working_dir/bondmachine.vhd ; done\n",
      "ls: cannot access *.vhd: No such file or directory\n",
      "rm -f *.vhd\n",
      "\u001b[31m[Project: 04_shared_object_alveou50]\u001b[0m - \u001b[32m[HDL generation end]\u001b[0m\n",
      "\n"
     ]
    }
   ],
   "source": [
    "!make hdl"
   ]
  },
  {
   "cell_type": "code",
   "execution_count": null,
   "metadata": {},
   "outputs": [],
   "source": [
    "!make xclbin"
   ]
  },
  {
   "cell_type": "code",
   "execution_count": 20,
   "metadata": {
    "tags": []
   },
   "outputs": [
    {
     "name": "stdout",
     "output_type": "stream",
     "text": [
      "\u001b[31m[Project: 04_shared_object_alveou50]\u001b[0m - \u001b[32m[Cleanup begin]\u001b[0m - \u001b[33m[Target: clean] \u001b[0m\n",
      "rm -rf working_dir\n",
      "rm -f vivado*\n",
      "rm -f graphviz*\n",
      "rm -rf ebcluster*\n",
      "rm -f a.out*\n",
      "rm -f .config.old\n",
      "rm -f generated.mk\n",
      "\u001b[31m[Project: 04_shared_object_alveou50]\u001b[0m - \u001b[32m[Cleanup end]\u001b[0m\n",
      "\n"
     ]
    }
   ],
   "source": [
    "!make clean"
   ]
  },
  {
   "cell_type": "code",
   "execution_count": null,
   "metadata": {},
   "outputs": [],
   "source": []
  }
 ],
 "metadata": {
  "kernelspec": {
   "display_name": "Python 3 (ipykernel)",
   "language": "python",
   "name": "python3"
  },
  "language_info": {
   "codemirror_mode": {
    "name": "ipython",
    "version": 3
   },
   "file_extension": ".py",
   "mimetype": "text/x-python",
   "name": "python",
   "nbconvert_exporter": "python",
   "pygments_lexer": "ipython3",
   "version": "3.8.18"
  },
  "vscode": {
   "interpreter": {
    "hash": "8a94588eda9d64d9e9a351ab8144e55b1fabf5113b54e67dd26a8c27df0381b3"
   }
  }
 },
 "nbformat": 4,
 "nbformat_minor": 4
}

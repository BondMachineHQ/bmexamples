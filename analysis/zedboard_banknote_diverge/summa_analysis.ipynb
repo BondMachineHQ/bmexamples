{
	"cells": [
		{
			"cell_type": "code",
			"execution_count": 10,
			"id": "6293e6e8-1433-4161-9e04-6c3d670b0e8c",
			"metadata": {},
			"outputs": [
				{
					"name": "stdout",
					"output_type": "stream",
					"text": [
						"Requirement already satisfied: pandas in /usr/lib/python3/dist-packages (0.25.3)\n",
						"Requirement already satisfied: matplotlib in /home/redo/.local/lib/python3.8/site-packages (3.3.2)\n",
						"Requirement already satisfied: numpy>=1.15 in /home/redo/.local/lib/python3.8/site-packages (from matplotlib) (1.20.2)\n",
						"Requirement already satisfied: python-dateutil>=2.1 in /usr/lib/python3/dist-packages (from matplotlib) (2.7.3)\n",
						"Requirement already satisfied: kiwisolver>=1.0.1 in /home/redo/.local/lib/python3.8/site-packages (from matplotlib) (1.3.1)\n",
						"Requirement already satisfied: pyparsing!=2.0.4,!=2.1.2,!=2.1.6,>=2.0.3 in /home/redo/.local/lib/python3.8/site-packages (from matplotlib) (2.4.7)\n",
						"Requirement already satisfied: pillow>=6.2.0 in /usr/lib/python3/dist-packages (from matplotlib) (7.0.0)\n",
						"Requirement already satisfied: certifi>=2020.06.20 in /home/redo/.local/lib/python3.8/site-packages (from matplotlib) (2020.6.20)\n",
						"Requirement already satisfied: cycler>=0.10 in /home/redo/.local/lib/python3.8/site-packages (from matplotlib) (0.10.0)\n",
						"Requirement already satisfied: six in /home/redo/.local/lib/python3.8/site-packages (from cycler>=0.10->matplotlib) (1.15.0)\n",
						"Requirement already satisfied: scipy in /usr/lib/python3/dist-packages (1.3.3)\n"
					]
				}
			],
			"source": [
				"!pip install pandas\n",
				"!pip install matplotlib\n",
				"!pip install scipy"
			]
		},
		{
			"cell_type": "code",
			"execution_count": 11,
			"id": "ff7dc30b-f076-446f-977d-5534a4120f20",
			"metadata": {},
			"outputs": [],
			"source": [
				"import pandas as pd\n",
				"import json\n",
				"import numpy as np\n",
				"import matplotlib.pyplot as plt\n",
				"import matplotlib.image as mpimg\n",
				"from scipy.stats import norm"
			]
		},
		{
			"cell_type": "code",
			"execution_count": 12,
			"id": "c9269fa0-2479-47ee-a261-1981ab82ddf2",
			"metadata": {},
			"outputs": [],
			"source": [
				"class colors:\n",
				"    WHITE = '\\033[97m'\n",
				"    BLACK = '\\033[90m'\n",
				"    HEADER = '\\033[95m'\n",
				"    BLUE = '\\033[94m'\n",
				"    CYAN = '\\033[96m'\n",
				"    GREEN = '\\033[92m'\n",
				"    YELLOW = '\\033[93m'\n",
				"    RED = '\\033[91m'\n",
				"    ENDC = '\\033[0m'\n",
				"    BOLD = '\\033[1m'\n",
				"    UNDERLINE = '\\033[4m'\n",
				"    \n",
				"def blue(text):\n",
				"    return colors.BLUE+text+colors.BLACK\n",
				"\n",
				"def green(text):\n",
				"    return colors.GREEN+text+colors.BLACK\n",
				"\n",
				"def red(text):\n",
				"    return colors.RED+text+colors.BLACK\n",
				"\n",
				"def yellow(text):\n",
				"    return colors.YELLOW+text+colors.BLACK\n",
				"\n",
				"def load_run(runname):\n",
				"    rundata=pd.read_csv(runname+'.csv')\n",
				"    \n",
				"    with open(runname+'_report.json') as f:\n",
				"        runinfo=json.load(f)\n",
				"\n",
				"    if 'clock_freq' in runinfo:\n",
				"        clock_freq=runinfo['clock_freq']\n",
				"    else:\n",
				"        clock_freq=None\n",
				"\n",
				"    if 'clock_cycles' in rundata:\n",
				"        clock_mean=rundata['clock_cycles'].mean()\n",
				"        clock_std=rundata['clock_cycles'].std()\n",
				"        inference_time_mean=clock_mean/(clock_freq) \n",
				"    else:\n",
				"        clock_mean=None\n",
				"        clock_std=None\n",
				"        inference_time_mean=None\n",
				"        \n",
				"    runinfo[\"runname\"]=runname\n",
				"    runinfo[\"rundata\"]=rundata\n",
				"    runinfo[\"clock_freq\"]=clock_freq\n",
				"    runinfo[\"clock_mean\"]=clock_mean\n",
				"    runinfo[\"clock_std\"]=clock_std\n",
				"    runinfo[\"inference_time_mean\"]=inference_time_mean\n",
				"    \n",
				"    return runinfo"
			]
		},
		{
			"cell_type": "code",
			"execution_count": 13,
			"id": "ddcd0fd8-3352-437b-8560-aa4865c2aeeb",
			"metadata": {},
			"outputs": [],
			"source": [
				"def consistency(runs, pivot_run):\n",
				"    # Result consistency, compare to pivot run every other run by mean and std\n",
				"    for i in range(len(runs)):\n",
				"        if i!= pivot_run:\n",
				"            runname=runs[i][\"runname\"]\n",
				"            rundata0=abs(runs[i][\"rundata\"][\"probability_0\"]-runs[pivot_run][\"rundata\"][\"probability_0\"])\n",
				"            rundata0_mean=rundata0.mean()\n",
				"            rundata0_std=rundata0.std()\n",
				"            rundata1=abs(runs[i][\"rundata\"][\"probability_1\"]-runs[pivot_run][\"rundata\"][\"probability_1\"])\n",
				"            rundata1_mean=rundata1.mean()\n",
				"            rundata1_std=rundata1.std()\n",
				"            prediction=runs[i][\"rundata\"][\"classification\"]==runs[pivot_run][\"rundata\"][\"classification\"]\n",
				"           \n",
				"            print (blue(runname)+\" - probability_0 - mean: \"+str(rundata0_mean)+ \" std: \"+str(rundata0_std))\n",
				"            print (blue(runname)+\" - probability_1 - mean: \"+str(rundata1_mean)+ \" std: \"+str(rundata1_std))\n",
				"            print (blue(runname)+\" - prediction    - \"+ green(str(prediction.value_counts(normalize=True)[True]*100)+ \"%\")+\" equal\")\n",
				"            print ()"
			]
		},
		{
			"cell_type": "code",
			"execution_count": 14,
			"id": "18871cf6",
			"metadata": {},
			"outputs": [],
			"source": [
				"def writetime(runs, pivot_run, x_param, y_param, title):\n",
				"    x=[]\n",
				"    y=[]\n",
				"    names=[]\n",
				"    for i in range(len(runs)):\n",
				"        if x_param in runs[i] and y_param in runs[i]:\n",
				"            x.append(runs[i][x_param])\n",
				"            y.append(runs[i][y_param])\n",
				"            names.append(runs[i][\"runname\"])\n",
				"\n",
				"            print(runs[i][\"runname\"], runs[i][x_param], runs[i][y_param])\n",
				"\n",
				"    if len(names) < 2:\n",
				"        print (\"Not enought data to plot\")\n",
				"        return"
			]
		},
		{
			"cell_type": "code",
			"execution_count": 20,
			"id": "bdf2a75f",
			"metadata": {},
			"outputs": [],
			"source": [
				"def analyze(runs, pivot_run):\n",
				"    pivot_name=runs[pivot_run][\"runname\"]\n",
				"    print (\"Pivot run \"+  blue(pivot_name))\n",
				"    print ()\n",
				"    print (red(\"Consistency, compare to pivot run every other run\"))\n",
				"    consistency(runs, pivot_run)\n",
				"    \n",
				"    print (red(\"Inference time mean\"))\n",
				"    writetime(runs, pivot_run, \"expprec\", \"inference_time_mean\", \"\")\n",
				"\n",
				"    print (red(\"Occupancy\"))\n",
				"    writetime(runs, pivot_run, \"cps\", \"luts\", \"Occupancy (cps vs luts)\")\n",
				"\n",
				"    print (red(\"Power consumption\"))\n",
				"    writetime(runs, pivot_run, \"cps\", \"power\", \"Power consumption (cps vs power)\")\n"
			]
		},
		{
			"cell_type": "code",
			"execution_count": 16,
			"id": "e1203e9c",
			"metadata": {},
			"outputs": [],
			"source": [
				"soft=load_run(\"sw\")"
			]
		},
		{
			"cell_type": "code",
			"execution_count": 24,
			"id": "976bd531-2a31-4a80-b1d9-0cc7f4cc9ce8",
			"metadata": {},
			"outputs": [
				{
					"name": "stdout",
					"output_type": "stream",
					"text": [
						"Pivot run \u001b[94msw\u001b[90m\n",
						"\n",
						"\u001b[91mConsistency, compare to pivot run every other run\u001b[90m\n",
						"\u001b[94mproj_zedboard_diverge_mm_hwopt_expprec2_flopoco_11bit\u001b[90m - probability_0 - mean: 0.022160703163636362 std: 0.023188443324648735\n",
						"\u001b[94mproj_zedboard_diverge_mm_hwopt_expprec2_flopoco_11bit\u001b[90m - probability_1 - mean: 0.016889607018181815 std: 0.020015808207265652\n",
						"\u001b[94mproj_zedboard_diverge_mm_hwopt_expprec2_flopoco_11bit\u001b[90m - prediction    - \u001b[92m98.54545454545455%\u001b[90m equal\n",
						"\n",
						"\u001b[94mproj_zedboard_diverge_mm_hwopt_expprec5_flopoco_11bit\u001b[90m - probability_0 - mean: 0.013839909345454532 std: 0.00996663924374771\n",
						"\u001b[94mproj_zedboard_diverge_mm_hwopt_expprec5_flopoco_11bit\u001b[90m - probability_1 - mean: 0.011005037418181818 std: 0.008909957962260935\n",
						"\u001b[94mproj_zedboard_diverge_mm_hwopt_expprec5_flopoco_11bit\u001b[90m - prediction    - \u001b[92m98.54545454545455%\u001b[90m equal\n",
						"\n",
						"\u001b[94mproj_zedboard_diverge_mm_hwopt_expprec10_flopoco_11bit\u001b[90m - probability_0 - mean: 0.013839909345454532 std: 0.00996663924374771\n",
						"\u001b[94mproj_zedboard_diverge_mm_hwopt_expprec10_flopoco_11bit\u001b[90m - probability_1 - mean: 0.011005037418181818 std: 0.008909957962260935\n",
						"\u001b[94mproj_zedboard_diverge_mm_hwopt_expprec10_flopoco_11bit\u001b[90m - prediction    - \u001b[92m98.54545454545455%\u001b[90m equal\n",
						"\n",
						"\u001b[94mproj_zedboard_diverge_mm_hwopt_expprec13_flopoco_11bit\u001b[90m - probability_0 - mean: 0.017547785199999985 std: 0.02974191438605564\n",
						"\u001b[94mproj_zedboard_diverge_mm_hwopt_expprec13_flopoco_11bit\u001b[90m - probability_1 - mean: 1.5069126955272727 std: 16.35878058279838\n",
						"\u001b[94mproj_zedboard_diverge_mm_hwopt_expprec13_flopoco_11bit\u001b[90m - prediction    - \u001b[92m97.0909090909091%\u001b[90m equal\n",
						"\n",
						"\u001b[94mproj_zedboard_diverge_mm_hwopt_expprec16_flopoco_11bit\u001b[90m - probability_0 - mean: 0.01872288825454544 std: 0.031837005659090055\n",
						"\u001b[94mproj_zedboard_diverge_mm_hwopt_expprec16_flopoco_11bit\u001b[90m - probability_1 - mean: 2.5789916487636364 std: 25.121951407227268\n",
						"\u001b[94mproj_zedboard_diverge_mm_hwopt_expprec16_flopoco_11bit\u001b[90m - prediction    - \u001b[92m96.72727272727273%\u001b[90m equal\n",
						"\n",
						"\u001b[94mproj_zedboard_diverge_mm_hwopt_expprec20_flopoco_11bit\u001b[90m - probability_0 - mean: 0.027377433709090897 std: 0.051434354606045\n",
						"\u001b[94mproj_zedboard_diverge_mm_hwopt_expprec20_flopoco_11bit\u001b[90m - probability_1 - mean: 1.1223014217090912 std: 10.873887094966964\n",
						"\u001b[94mproj_zedboard_diverge_mm_hwopt_expprec20_flopoco_11bit\u001b[90m - prediction    - \u001b[92m94.9090909090909%\u001b[90m equal\n",
						"\n",
						"\u001b[91mInference time mean\u001b[90m\n",
						"proj_zedboard_diverge_mm_hwopt_expprec2_flopoco_11bit 2 4.8893818181818185\n",
						"proj_zedboard_diverge_mm_hwopt_expprec5_flopoco_11bit 5 8.075963636363637\n",
						"proj_zedboard_diverge_mm_hwopt_expprec10_flopoco_11bit 10 13.78290909090909\n",
						"proj_zedboard_diverge_mm_hwopt_expprec13_flopoco_11bit 13 12.899418181818183\n",
						"proj_zedboard_diverge_mm_hwopt_expprec16_flopoco_11bit 16 9.642254545454545\n",
						"proj_zedboard_diverge_mm_hwopt_expprec20_flopoco_11bit 20 8.954727272727274\n",
						"\u001b[91mOccupancy\u001b[90m\n",
						"proj_zedboard_diverge_mm_hwopt_expprec2_flopoco_11bit 24 4708\n",
						"proj_zedboard_diverge_mm_hwopt_expprec5_flopoco_11bit 24 4739\n",
						"proj_zedboard_diverge_mm_hwopt_expprec10_flopoco_11bit 24 4743\n",
						"proj_zedboard_diverge_mm_hwopt_expprec13_flopoco_11bit 24 4768\n",
						"proj_zedboard_diverge_mm_hwopt_expprec16_flopoco_11bit 24 4611\n",
						"proj_zedboard_diverge_mm_hwopt_expprec20_flopoco_11bit 24 4699\n",
						"\u001b[91mPower consumption\u001b[90m\n",
						"proj_zedboard_diverge_mm_hwopt_expprec2_flopoco_11bit 24 0.097\n",
						"proj_zedboard_diverge_mm_hwopt_expprec5_flopoco_11bit 24 0.1\n",
						"proj_zedboard_diverge_mm_hwopt_expprec10_flopoco_11bit 24 0.097\n",
						"proj_zedboard_diverge_mm_hwopt_expprec13_flopoco_11bit 24 0.098\n",
						"proj_zedboard_diverge_mm_hwopt_expprec16_flopoco_11bit 24 0.093\n",
						"proj_zedboard_diverge_mm_hwopt_expprec20_flopoco_11bit 24 0.097\n"
					]
				}
			],
			"source": [
				"#expanded=load_run(\"expanded\")\n",
				"expprec2_flopoco_11bit=load_run(\"proj_zedboard_diverge_mm_hwopt_expprec2_flopoco_11bit\")\n",
				"expprec5_flopoco_11bit=load_run(\"proj_zedboard_diverge_mm_hwopt_expprec5_flopoco_11bit\")\n",
				"expprec10_flopoco_11bit=load_run(\"proj_zedboard_diverge_mm_hwopt_expprec10_flopoco_11bit\")\n",
				"expprec13_flopoco_11bit=load_run(\"proj_zedboard_diverge_mm_hwopt_expprec13_flopoco_11bit\")\n",
				"expprec16_flopoco_11bit=load_run(\"proj_zedboard_diverge_mm_hwopt_expprec16_flopoco_11bit\")\n",
				"expprec20_flopoco_11bit=load_run(\"proj_zedboard_diverge_mm_hwopt_expprec20_flopoco_11bit\")\n",
				"analyze([ soft, expprec2_flopoco_11bit, \\\n",
				"                expprec5_flopoco_11bit, \\\n",
				"                expprec10_flopoco_11bit, \\\n",
				"                expprec13_flopoco_11bit, \\\n",
				"                expprec16_flopoco_11bit, \\\n",
				"                expprec20_flopoco_11bit],0)"
			]
		},
		{
			"attachments": {},
			"cell_type": "markdown",
			"id": "91d5acfa",
			"metadata": {},
			"source": [
				"Clearly using few bit as soon as we start increasing the series expansion the results explode (we need more bits)\n",
				"the time simply has a big  uncertainty"
			]
		},
		{
			"cell_type": "code",
			"execution_count": 25,
			"id": "af45fc8c",
			"metadata": {},
			"outputs": [
				{
					"name": "stdout",
					"output_type": "stream",
					"text": [
						"Pivot run \u001b[94msw\u001b[90m\n",
						"\n",
						"\u001b[91mConsistency, compare to pivot run every other run\u001b[90m\n",
						"\u001b[94mproj_zedboard_diverge_mm_hwopt_expprec2_flopoco_16bit\u001b[90m - probability_0 - mean: 0.01922412694545455 std: 0.02333690863726429\n",
						"\u001b[94mproj_zedboard_diverge_mm_hwopt_expprec2_flopoco_16bit\u001b[90m - probability_1 - mean: 0.019153423309090905 std: 0.023290972954059477\n",
						"\u001b[94mproj_zedboard_diverge_mm_hwopt_expprec2_flopoco_16bit\u001b[90m - prediction    - \u001b[92m100.0%\u001b[90m equal\n",
						"\n",
						"\u001b[94mproj_zedboard_diverge_mm_hwopt_expprec5_flopoco_16bit\u001b[90m - probability_0 - mean: 0.0012532669454545502 std: 0.0011708291299422338\n",
						"\u001b[94mproj_zedboard_diverge_mm_hwopt_expprec5_flopoco_16bit\u001b[90m - probability_1 - mean: 0.0011948972000000023 std: 0.0012303044035162508\n",
						"\u001b[94mproj_zedboard_diverge_mm_hwopt_expprec5_flopoco_16bit\u001b[90m - prediction    - \u001b[92m100.0%\u001b[90m equal\n",
						"\n",
						"\u001b[94mproj_zedboard_diverge_mm_hwopt_expprec10_flopoco_16bit\u001b[90m - probability_0 - mean: 0.0012532669454545502 std: 0.0011708291299422338\n",
						"\u001b[94mproj_zedboard_diverge_mm_hwopt_expprec10_flopoco_16bit\u001b[90m - probability_1 - mean: 0.0011948972000000023 std: 0.0012303044035162508\n",
						"\u001b[94mproj_zedboard_diverge_mm_hwopt_expprec10_flopoco_16bit\u001b[90m - prediction    - \u001b[92m100.0%\u001b[90m equal\n",
						"\n",
						"\u001b[94mproj_zedboard_diverge_mm_hwopt_expprec20_flopoco_16bit\u001b[90m - probability_0 - mean: 0.0060136917454545495 std: 0.029447810533448453\n",
						"\u001b[94mproj_zedboard_diverge_mm_hwopt_expprec20_flopoco_16bit\u001b[90m - probability_1 - mean: 4.1385912764 std: 34.175030113007764\n",
						"\u001b[94mproj_zedboard_diverge_mm_hwopt_expprec20_flopoco_16bit\u001b[90m - prediction    - \u001b[92m98.54545454545455%\u001b[90m equal\n",
						"\n",
						"\u001b[91mInference time mean\u001b[90m\n",
						"proj_zedboard_diverge_mm_hwopt_expprec2_flopoco_16bit 2 5.935927272727273\n",
						"proj_zedboard_diverge_mm_hwopt_expprec5_flopoco_16bit 5 8.748145454545455\n",
						"proj_zedboard_diverge_mm_hwopt_expprec10_flopoco_16bit 10 15.044072727272727\n",
						"proj_zedboard_diverge_mm_hwopt_expprec20_flopoco_16bit 20 27.919054545454546\n",
						"\u001b[91mOccupancy\u001b[90m\n",
						"proj_zedboard_diverge_mm_hwopt_expprec2_flopoco_16bit 24 7733\n",
						"proj_zedboard_diverge_mm_hwopt_expprec5_flopoco_16bit 24 7716\n",
						"proj_zedboard_diverge_mm_hwopt_expprec10_flopoco_16bit 24 7761\n",
						"proj_zedboard_diverge_mm_hwopt_expprec20_flopoco_16bit 24 7756\n",
						"\u001b[91mPower consumption\u001b[90m\n",
						"proj_zedboard_diverge_mm_hwopt_expprec2_flopoco_16bit 24 0.163\n",
						"proj_zedboard_diverge_mm_hwopt_expprec5_flopoco_16bit 24 0.163\n",
						"proj_zedboard_diverge_mm_hwopt_expprec10_flopoco_16bit 24 0.167\n",
						"proj_zedboard_diverge_mm_hwopt_expprec20_flopoco_16bit 24 0.162\n"
					]
				}
			],
			"source": [
				"#expanded=load_run(\"expanded\")\n",
				"expprec2_flopoco_16bit=load_run(\"proj_zedboard_diverge_mm_hwopt_expprec2_flopoco_16bit\")\n",
				"expprec5_flopoco_16bit=load_run(\"proj_zedboard_diverge_mm_hwopt_expprec5_flopoco_16bit\")\n",
				"expprec10_flopoco_16bit=load_run(\"proj_zedboard_diverge_mm_hwopt_expprec10_flopoco_16bit\")\n",
				"expprec20_flopoco_16bit=load_run(\"proj_zedboard_diverge_mm_hwopt_expprec20_flopoco_16bit\")\n",
				"analyze([ soft, expprec2_flopoco_16bit, \\\n",
				"                expprec5_flopoco_16bit, \\\n",
				"                expprec10_flopoco_16bit, \\\n",
				"                expprec20_flopoco_16bit],0)"
			]
		},
		{
			"attachments": {},
			"cell_type": "markdown",
			"id": "c72d29f6",
			"metadata": {},
			"source": [
				"Clearly using few bit as soon as we start increasing the series expansion the results explode (we need more bits)\n",
				"as for 11 but ony for 20 "
			]
		}
	],
	"metadata": {
		"kernelspec": {
			"display_name": "Python 3 (ipykernel)",
			"language": "python",
			"name": "python3"
		},
		"language_info": {
			"codemirror_mode": {
				"name": "ipython",
				"version": 3
			},
			"file_extension": ".py",
			"mimetype": "text/x-python",
			"name": "python",
			"nbconvert_exporter": "python",
			"pygments_lexer": "ipython3",
			"version": "3.8.10"
		},
		"vscode": {
			"interpreter": {
				"hash": "97b4c6de4695f1fe6bfabfed1e13c8c763fcd1e15536b82de4b874cda1fc74b7"
			}
		}
	},
	"nbformat": 4,
	"nbformat_minor": 5
}

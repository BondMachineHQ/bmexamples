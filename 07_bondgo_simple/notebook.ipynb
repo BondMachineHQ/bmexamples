{
 "cells": [
  {
   "cell_type": "markdown",
   "metadata": {
    "tags": []
   },
   "source": [
    "### Bondgo simple example ###"
   ]
  },
  {
   "cell_type": "markdown",
   "metadata": {},
   "source": [
    "This is the usal way to import the BondMachine toolkit into your python environment."
   ]
  },
  {
   "cell_type": "code",
   "execution_count": null,
   "metadata": {
    "tags": []
   },
   "outputs": [],
   "source": [
    "import os\n",
    "BONDMACHINE_DIR=\"/home/\"+os.environ[\"USER\"]+\"/bin\"\n",
    "os.environ[\"BONDMACHINE_DIR\"]=BONDMACHINE_DIR\n",
    "os.environ[\"PATH\"]=os.environ[\"PATH\"]+\":\"+os.environ[\"BONDMACHINE_DIR\"]"
   ]
  },
  {
   "cell_type": "code",
   "execution_count": null,
   "metadata": {
    "tags": []
   },
   "outputs": [],
   "source": [
    "os.environ['XILINX_HLS'] = '/tools/Xilinx/Vitis_HLS/2023.2'\n",
    "os.environ['XILINX_VIVADO'] = '/tools/Xilinx/Vivado/2023.2'\n",
    "os.environ['XILINX_VITIS'] = '/tools/Xilinx/Vitis/2023.2'\n",
    "os.environ['PATH']=os.environ[\"PATH\"]+\":\"+os.environ['XILINX_HLS']+\"/bin:\"+os.environ['XILINX_VIVADO']+\"/bin:\"+os.environ['XILINX_VITIS']+\"/bin:\""
   ]
  },
  {
   "cell_type": "markdown",
   "metadata": {},
   "source": [
    "Let's import also some other useful libraries as display."
   ]
  },
  {
   "cell_type": "code",
   "execution_count": null,
   "metadata": {
    "tags": []
   },
   "outputs": [],
   "source": [
    "from IPython import display"
   ]
  },
  {
   "cell_type": "code",
   "execution_count": null,
   "metadata": {
    "tags": []
   },
   "outputs": [],
   "source": [
    "!bmhelper doctor"
   ]
  },
  {
   "cell_type": "markdown",
   "metadata": {},
   "source": [
    "Let's ckeck the project configuration."
   ]
  },
  {
   "cell_type": "code",
   "execution_count": null,
   "metadata": {
    "tags": []
   },
   "outputs": [],
   "source": [
    "%%bash\n",
    "cat local.mk"
   ]
  },
  {
   "cell_type": "markdown",
   "metadata": {},
   "source": [
    "There is a variable called `MAPFILE` that points to the map file, which is a json file that contains the information about how the BondMachine\n",
    "is connected to the real world. Let's take a look at it."
   ]
  },
  {
   "cell_type": "code",
   "execution_count": null,
   "metadata": {
    "tags": []
   },
   "outputs": [],
   "source": [
    "!cat maps.json"
   ]
  },
  {
   "cell_type": "markdown",
   "metadata": {},
   "source": [
    "As you can see, the project is configured to use the `bondgo` compiler as source way to compile the code."
   ]
  },
  {
   "cell_type": "code",
   "execution_count": null,
   "metadata": {
    "tags": []
   },
   "outputs": [],
   "source": [
    "%%bash\n",
    "cat counter.go"
   ]
  },
  {
   "cell_type": "markdown",
   "metadata": {},
   "source": [
    "With the `bondmachine` target we can generate the corresponding bondmachine. This time the toolchain \n",
    "make use of the `bondgo` compiler to generate the bondmachine. The bondgo arg -d is used to specify the\n",
    "activation of the debug mode."
   ]
  },
  {
   "cell_type": "code",
   "execution_count": null,
   "metadata": {
    "tags": []
   },
   "outputs": [],
   "source": [
    "%%bash\n",
    "make bondmachine"
   ]
  },
  {
   "cell_type": "markdown",
   "metadata": {},
   "source": [
    "The debug mode shows how the compiler parses the code and generates the  AST (Abstract Syntax Tree) of the code and \n",
    "how it creates the bondmachine. Let's see the bondmachine."
   ]
  },
  {
   "cell_type": "code",
   "execution_count": null,
   "metadata": {
    "tags": []
   },
   "outputs": [],
   "source": [
    "!SHOWRENDERER=\"dot -Tpng > working_dir/bondmachine.png\" make show\n",
    "display.Image(\"working_dir/bondmachine.png\")"
   ]
  },
  {
   "cell_type": "markdown",
   "metadata": {},
   "source": [
    "By taking a look at the ASM code, we can see that the there is not optimization."
   ]
  },
  {
   "cell_type": "markdown",
   "metadata": {},
   "source": [
    "Let's clean the workspace."
   ]
  },
  {
   "cell_type": "code",
   "execution_count": null,
   "metadata": {
    "tags": []
   },
   "outputs": [],
   "source": [
    "!make clean"
   ]
  }
 ],
 "metadata": {
  "kernelspec": {
   "display_name": "Python 3 (ipykernel)",
   "language": "python",
   "name": "python3"
  },
  "language_info": {
   "codemirror_mode": {
    "name": "ipython",
    "version": 3
   },
   "file_extension": ".py",
   "mimetype": "text/x-python",
   "name": "python",
   "nbconvert_exporter": "python",
   "pygments_lexer": "ipython3",
   "version": "3.8.18"
  },
  "vscode": {
   "interpreter": {
    "hash": "8a94588eda9d64d9e9a351ab8144e55b1fabf5113b54e67dd26a8c27df0381b3"
   }
  }
 },
 "nbformat": 4,
 "nbformat_minor": 4
}
